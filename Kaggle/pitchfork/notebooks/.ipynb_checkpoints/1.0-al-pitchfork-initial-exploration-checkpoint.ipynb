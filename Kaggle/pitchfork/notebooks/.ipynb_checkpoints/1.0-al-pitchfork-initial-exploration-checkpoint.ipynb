{
 "cells": [
  {
   "cell_type": "code",
   "execution_count": 2,
   "metadata": {
    "collapsed": true
   },
   "outputs": [],
   "source": [
    "from sqlalchemy import create_engine, MetaData, inspect\n",
    "import os"
   ]
  },
  {
   "cell_type": "code",
   "execution_count": 12,
   "metadata": {
    "collapsed": true
   },
   "outputs": [],
   "source": [
    "def get_project_folder():\n",
    "    return os.path.dirname(os.getcwd());"
   ]
  },
  {
   "cell_type": "code",
   "execution_count": 13,
   "metadata": {},
   "outputs": [],
   "source": [
    "project_folder = get_project_folder()\n",
    "db_path = project_folder + '\\\\data\\\\raw\\\\database.sqlite'"
   ]
  },
  {
   "cell_type": "code",
   "execution_count": 14,
   "metadata": {},
   "outputs": [
    {
     "data": {
      "text/plain": [
       "<sqlalchemy.engine.base.Connection at 0x1f88c9a6ac8>"
      ]
     },
     "execution_count": 14,
     "metadata": {},
     "output_type": "execute_result"
    }
   ],
   "source": [
    "# Connecting to SQLite DB\n",
    "engine = create_engine('sqlite:///' + db_path)\n",
    "engine.connect()"
   ]
  },
  {
   "cell_type": "code",
   "execution_count": 16,
   "metadata": {},
   "outputs": [
    {
     "name": "stdout",
     "output_type": "stream",
     "text": [
      "Tables in the database\n",
      "['artists', 'content', 'genres', 'labels', 'reviews', 'years']\n"
     ]
    }
   ],
   "source": [
    "print('Tables in the database')\n",
    "print(engine.table_names())"
   ]
  },
  {
   "cell_type": "code",
   "execution_count": 17,
   "metadata": {
    "collapsed": true
   },
   "outputs": [],
   "source": [
    "m = MetaData(bind=engine)\n",
    "m.reflect(engine)"
   ]
  },
  {
   "cell_type": "code",
   "execution_count": 18,
   "metadata": {},
   "outputs": [
    {
     "data": {
      "text/plain": [
       "[{'autoincrement': 'auto',\n",
       "  'default': None,\n",
       "  'name': 'reviewid',\n",
       "  'nullable': True,\n",
       "  'primary_key': 0,\n",
       "  'type': INTEGER()},\n",
       " {'autoincrement': 'auto',\n",
       "  'default': None,\n",
       "  'name': 'artist',\n",
       "  'nullable': True,\n",
       "  'primary_key': 0,\n",
       "  'type': TEXT()}]"
      ]
     },
     "execution_count": 18,
     "metadata": {},
     "output_type": "execute_result"
    }
   ],
   "source": [
    "ins = inspect(engine)\n",
    "ins.get_columns(table_name='artists')"
   ]
  },
  {
   "cell_type": "code",
   "execution_count": 19,
   "metadata": {},
   "outputs": [
    {
     "data": {
      "text/plain": [
       "(22703, 'massive attack')"
      ]
     },
     "execution_count": 19,
     "metadata": {},
     "output_type": "execute_result"
    }
   ],
   "source": [
    "result = engine.execute(\"SELECT * FROM artists\")\n",
    "result.fetchone()"
   ]
  },
  {
   "cell_type": "code",
   "execution_count": 24,
   "metadata": {},
   "outputs": [
    {
     "data": {
      "text/plain": [
       "(22703, 'mezzanine', 'massive attack', 'http://pitchfork.com/reviews/albums/22703-mezzanine/', 9.3, 0, 'nate patrin', 'contributor', '2017-01-08', 6, 8, 1, 2017)"
      ]
     },
     "execution_count": 24,
     "metadata": {},
     "output_type": "execute_result"
    }
   ],
   "source": [
    "result = engine.execute(\"SELECT * FROM reviews\")\n",
    "result.fetchone()"
   ]
  },
  {
   "cell_type": "code",
   "execution_count": 20,
   "metadata": {},
   "outputs": [
    {
     "name": "stdout",
     "output_type": "stream",
     "text": [
      "immutabledict({'artists': Table('artists', MetaData(bind=Engine(sqlite:///C:\\Users\\Andrew\\Desktop\\ChiPy_Spring2018\\Kaggle\\pitchfork\\data\\raw\\database.sqlite)), Column('reviewid', INTEGER(), table=<artists>), Column('artist', TEXT(), table=<artists>), schema=None), 'content': Table('content', MetaData(bind=Engine(sqlite:///C:\\Users\\Andrew\\Desktop\\ChiPy_Spring2018\\Kaggle\\pitchfork\\data\\raw\\database.sqlite)), Column('reviewid', INTEGER(), table=<content>), Column('content', TEXT(), table=<content>), schema=None), 'genres': Table('genres', MetaData(bind=Engine(sqlite:///C:\\Users\\Andrew\\Desktop\\ChiPy_Spring2018\\Kaggle\\pitchfork\\data\\raw\\database.sqlite)), Column('reviewid', INTEGER(), table=<genres>), Column('genre', TEXT(), table=<genres>), schema=None), 'labels': Table('labels', MetaData(bind=Engine(sqlite:///C:\\Users\\Andrew\\Desktop\\ChiPy_Spring2018\\Kaggle\\pitchfork\\data\\raw\\database.sqlite)), Column('reviewid', INTEGER(), table=<labels>), Column('label', TEXT(), table=<labels>), schema=None), 'reviews': Table('reviews', MetaData(bind=Engine(sqlite:///C:\\Users\\Andrew\\Desktop\\ChiPy_Spring2018\\Kaggle\\pitchfork\\data\\raw\\database.sqlite)), Column('reviewid', INTEGER(), table=<reviews>), Column('title', TEXT(), table=<reviews>), Column('artist', TEXT(), table=<reviews>), Column('url', TEXT(), table=<reviews>), Column('score', REAL(), table=<reviews>), Column('best_new_music', INTEGER(), table=<reviews>), Column('author', TEXT(), table=<reviews>), Column('author_type', TEXT(), table=<reviews>), Column('pub_date', TEXT(), table=<reviews>), Column('pub_weekday', INTEGER(), table=<reviews>), Column('pub_day', INTEGER(), table=<reviews>), Column('pub_month', INTEGER(), table=<reviews>), Column('pub_year', INTEGER(), table=<reviews>), schema=None), 'years': Table('years', MetaData(bind=Engine(sqlite:///C:\\Users\\Andrew\\Desktop\\ChiPy_Spring2018\\Kaggle\\pitchfork\\data\\raw\\database.sqlite)), Column('reviewid', INTEGER(), table=<years>), Column('year', INTEGER(), table=<years>), schema=None)})\n"
     ]
    }
   ],
   "source": [
    "print(m.tables)"
   ]
  },
  {
   "cell_type": "code",
   "execution_count": 25,
   "metadata": {
    "collapsed": true
   },
   "outputs": [],
   "source": [
    "reviews = result.fetchall()"
   ]
  },
  {
   "cell_type": "code",
   "execution_count": 30,
   "metadata": {},
   "outputs": [
    {
     "name": "stdout",
     "output_type": "stream",
     "text": [
      "18392\n",
      "(22721, 'prelapsarian', 'krallice', 'http://pitchfork.com/reviews/albums/22721-prelapsarian/', 7.9, 0, 'zoe camp', 'contributor', '2017-01-07', 5, 7, 1, 2017)\n"
     ]
    },
    {
     "data": {
      "text/plain": [
       "<function list.index>"
      ]
     },
     "execution_count": 30,
     "metadata": {},
     "output_type": "execute_result"
    }
   ],
   "source": [
    "\n",
    "print( len(reviews) )\n",
    "print( reviews[0] )\n",
    "reviews"
   ]
  },
  {
   "cell_type": "code",
   "execution_count": null,
   "metadata": {
    "collapsed": true
   },
   "outputs": [],
   "source": []
  }
 ],
 "metadata": {
  "kernelspec": {
   "display_name": "Python 3",
   "language": "python",
   "name": "python3"
  },
  "language_info": {
   "codemirror_mode": {
    "name": "ipython",
    "version": 3
   },
   "file_extension": ".py",
   "mimetype": "text/x-python",
   "name": "python",
   "nbconvert_exporter": "python",
   "pygments_lexer": "ipython3",
   "version": "3.6.2"
  }
 },
 "nbformat": 4,
 "nbformat_minor": 2
}
