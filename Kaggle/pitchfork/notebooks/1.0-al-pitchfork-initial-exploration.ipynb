{
 "cells": [
  {
   "cell_type": "code",
   "execution_count": 32,
   "metadata": {
    "collapsed": true
   },
   "outputs": [],
   "source": [
    "from sqlalchemy import create_engine, MetaData, inspect\n",
    "import pandas as pd\n",
    "import matplotlib.pyplot as plt\n",
    "import os"
   ]
  },
  {
   "cell_type": "code",
   "execution_count": 2,
   "metadata": {
    "collapsed": true
   },
   "outputs": [],
   "source": [
    "def get_project_folder():\n",
    "    return os.path.dirname(os.getcwd());"
   ]
  },
  {
   "cell_type": "code",
   "execution_count": 3,
   "metadata": {
    "collapsed": true
   },
   "outputs": [],
   "source": [
    "project_folder = get_project_folder()\n",
    "db_path = project_folder + '\\\\data\\\\raw\\\\database.sqlite'"
   ]
  },
  {
   "cell_type": "code",
   "execution_count": 4,
   "metadata": {},
   "outputs": [
    {
     "data": {
      "text/plain": [
       "<sqlalchemy.engine.base.Connection at 0x14e3334df28>"
      ]
     },
     "execution_count": 4,
     "metadata": {},
     "output_type": "execute_result"
    }
   ],
   "source": [
    "# Connecting to SQLite DB\n",
    "engine = create_engine('sqlite:///' + db_path)\n",
    "engine.connect()"
   ]
  },
  {
   "cell_type": "code",
   "execution_count": 5,
   "metadata": {},
   "outputs": [
    {
     "name": "stdout",
     "output_type": "stream",
     "text": [
      "Tables in the database\n",
      "['artists', 'content', 'genres', 'labels', 'reviews', 'years']\n"
     ]
    }
   ],
   "source": [
    "print('Tables in the database')\n",
    "print(engine.table_names())"
   ]
  },
  {
   "cell_type": "code",
   "execution_count": 43,
   "metadata": {},
   "outputs": [
    {
     "name": "stdout",
     "output_type": "stream",
     "text": [
      "immutabledict({'artists': Table('artists', MetaData(bind=Engine(sqlite:///C:\\Users\\Andrew\\Desktop\\ChiPy_Spring2018\\Kaggle\\pitchfork\\data\\raw\\database.sqlite)), Column('reviewid', INTEGER(), table=<artists>), Column('artist', TEXT(), table=<artists>), schema=None), 'content': Table('content', MetaData(bind=Engine(sqlite:///C:\\Users\\Andrew\\Desktop\\ChiPy_Spring2018\\Kaggle\\pitchfork\\data\\raw\\database.sqlite)), Column('reviewid', INTEGER(), table=<content>), Column('content', TEXT(), table=<content>), schema=None), 'genres': Table('genres', MetaData(bind=Engine(sqlite:///C:\\Users\\Andrew\\Desktop\\ChiPy_Spring2018\\Kaggle\\pitchfork\\data\\raw\\database.sqlite)), Column('reviewid', INTEGER(), table=<genres>), Column('genre', TEXT(), table=<genres>), schema=None), 'labels': Table('labels', MetaData(bind=Engine(sqlite:///C:\\Users\\Andrew\\Desktop\\ChiPy_Spring2018\\Kaggle\\pitchfork\\data\\raw\\database.sqlite)), Column('reviewid', INTEGER(), table=<labels>), Column('label', TEXT(), table=<labels>), schema=None), 'reviews': Table('reviews', MetaData(bind=Engine(sqlite:///C:\\Users\\Andrew\\Desktop\\ChiPy_Spring2018\\Kaggle\\pitchfork\\data\\raw\\database.sqlite)), Column('reviewid', INTEGER(), table=<reviews>), Column('title', TEXT(), table=<reviews>), Column('artist', TEXT(), table=<reviews>), Column('url', TEXT(), table=<reviews>), Column('score', REAL(), table=<reviews>), Column('best_new_music', INTEGER(), table=<reviews>), Column('author', TEXT(), table=<reviews>), Column('author_type', TEXT(), table=<reviews>), Column('pub_date', TEXT(), table=<reviews>), Column('pub_weekday', INTEGER(), table=<reviews>), Column('pub_day', INTEGER(), table=<reviews>), Column('pub_month', INTEGER(), table=<reviews>), Column('pub_year', INTEGER(), table=<reviews>), schema=None), 'years': Table('years', MetaData(bind=Engine(sqlite:///C:\\Users\\Andrew\\Desktop\\ChiPy_Spring2018\\Kaggle\\pitchfork\\data\\raw\\database.sqlite)), Column('reviewid', INTEGER(), table=<years>), Column('year', INTEGER(), table=<years>), schema=None)})\n"
     ]
    }
   ],
   "source": [
    "m = MetaData(bind=engine)\n",
    "m.reflect(engine)\n",
    "ins = inspect(engine)\n",
    "print(m.tables)"
   ]
  },
  {
   "cell_type": "code",
   "execution_count": 44,
   "metadata": {},
   "outputs": [],
   "source": [
    "def get_table_column_names(table_name):\n",
    "    cols = ins.get_columns(table_name=table_name)\n",
    "    return [d['name'] for d in cols]"
   ]
  },
  {
   "cell_type": "code",
   "execution_count": 66,
   "metadata": {},
   "outputs": [
    {
     "name": "stdout",
     "output_type": "stream",
     "text": [
      "artists table\n",
      "\n",
      "\n",
      "   reviewid          artist\n",
      "0     22703  massive attack\n",
      "1     22721        krallice\n",
      "2     22659    uranium club\n",
      "3     22661         kleenex\n",
      "4     22661         liliput\n",
      "\n",
      "\n",
      "Number of reviews for each artist\n",
      "\n",
      "\n",
      "                     n_reviews\n",
      "artist                        \n",
      "various artists            688\n",
      "guided by voices            23\n",
      "neil young                  23\n",
      "bonnie prince billy         22\n",
      "the beatles                 21\n"
     ]
    }
   ],
   "source": [
    "print('artists table')\n",
    "print('\\n')\n",
    "result = engine.execute(\"SELECT * FROM artists\")\n",
    "artists = pd.DataFrame(result.fetchall(), columns=get_table_column_names('artists'))\n",
    "print(artists.head())\n",
    "print('\\n')\n",
    "\n",
    "print('Number of reviews for each artist')\n",
    "print('\\n')\n",
    "n_reviews_by_artist = artists.groupby('artist').count()\n",
    "n_reviews_by_artist.columns = ['n_reviews']\n",
    "print(n_reviews_by_artist.sort_values('n_reviews', ascending=False).head())"
   ]
  },
  {
   "cell_type": "code",
   "execution_count": 67,
   "metadata": {},
   "outputs": [
    {
     "name": "stdout",
     "output_type": "stream",
     "text": [
      "reviews table\n",
      "\n",
      "\n",
      "   reviewid                 title            artist  \\\n",
      "0     22703             mezzanine    massive attack   \n",
      "1     22721          prelapsarian          krallice   \n",
      "2     22659  all of them naturals      uranium club   \n",
      "3     22661           first songs  kleenex, liliput   \n",
      "4     22725             new start              taso   \n",
      "\n",
      "                                                 url  score  best_new_music  \\\n",
      "0  http://pitchfork.com/reviews/albums/22703-mezz...    9.3               0   \n",
      "1  http://pitchfork.com/reviews/albums/22721-prel...    7.9               0   \n",
      "2  http://pitchfork.com/reviews/albums/22659-all-...    7.3               0   \n",
      "3  http://pitchfork.com/reviews/albums/22661-firs...    9.0               1   \n",
      "4  http://pitchfork.com/reviews/albums/22725-new-...    8.1               0   \n",
      "\n",
      "           author               author_type    pub_date  pub_weekday  pub_day  \\\n",
      "0     nate patrin               contributor  2017-01-08            6        8   \n",
      "1        zoe camp               contributor  2017-01-07            5        7   \n",
      "2  david glickman               contributor  2017-01-07            5        7   \n",
      "3      jenn pelly  associate reviews editor  2017-01-06            4        6   \n",
      "4    kevin lozano        tracks coordinator  2017-01-06            4        6   \n",
      "\n",
      "   pub_month  pub_year  \n",
      "0          1      2017  \n",
      "1          1      2017  \n",
      "2          1      2017  \n",
      "3          1      2017  \n",
      "4          1      2017  \n"
     ]
    },
    {
     "data": {
      "image/png": "[encoded data removed]",
      "text/plain": [
       "<matplotlib.figure.Figure at 0x14e480170f0>"
      ]
     },
     "metadata": {},
     "output_type": "display_data"
    }
   ],
   "source": [
    "print('reviews table')\n",
    "print('\\n')\n",
    "result = engine.execute(\"SELECT * FROM reviews\")\n",
    "reviews = pd.DataFrame(result.fetchall(), columns=get_table_column_names('reviews'))\n",
    "print(reviews.head())\n",
    "\n",
    "reviews['score'].hist()\n",
    "plt.title('Histogram of review scores')\n",
    "plt.xlabel('Score')\n",
    "plt.ylabel('Counts')\n",
    "plt.show()"
   ]
  },
  {
   "cell_type": "code",
   "execution_count": 62,
   "metadata": {},
   "outputs": [
    {
     "name": "stdout",
     "output_type": "stream",
     "text": [
      "content table\n",
      "\n",
      "\n",
      "   reviewid                                            content\n",
      "0     22703  “Trip-hop” eventually became a ’90s punchline,...\n",
      "1     22721  Eight years, five albums, and two EPs in, the ...\n",
      "2     22659  Minneapolis’ Uranium Club seem to revel in bei...\n",
      "3     22661  Kleenex began with a crash. It transpired one ...\n",
      "4     22725  It is impossible to consider a given release b...\n",
      "\n",
      "\n",
      "“Trip-hop” eventually became a ’90s punchline, a music-press shorthand for “overhyped hotel lounge music.” But today, the much-maligned subgenre almost feels like a secret precedent. Listen to any of the canonical Bristol-scene albums of the mid-late ’90s, when the genre was starting to chafe against its boundaries, and you’d think the claustrophobic, anxious 21st century started a few years ahead of schedule. Looked at from the right angle, trip-hop is part of an unbroken chain that runs from the abrasion of ’80s post-punk to the ruminative pop-R&B-dance fusion of the moment. The best of it has aged far more gracefully (and forcefully) than anything recorded in the waning days of the record industry’s pre-filesharing monomania has any right to. Tricky rebelled against being attached at the hip to a scene he was already looking to shed and decamped for Jamaica to record a more aggressive, bristling-energy mutation of his style in ’96; the name Pre-Millennium Tension is the only obvious thing that tells you it’s two decades old rather than two weeks. And Portishead’s ’97 self-titled saw the stress-fractured voice of Beth Gibbons envisioning romance as codependent, mutually assured destruction while Geoff Barrow sunk into his RZA-noir beats like The Conversation’s Gene Hackman ruminating over his surveillance tapes. This was raw-nerved music, too single-minded and intense to carry an obvious timestamp. But Massive Attack were the origin point of the trip-hop movement they and their peers were striving to escape the orbit of, and they nearly tore themselves to shreds in the process. Instead— or maybe as a result—they laid down their going-nova genre's definitive paranoia statement with Mezzanine. The band's third album (not counting the Mad Professor-remixed No Protection) completes the last in a sort of de facto Bristol trilogy, where Tricky’s youthful iconoclasm and Portishead’s deep-focus emotional intensity set the scene for Massive Attack’s sense of near-suffocating dread. The album corroded their tendencies to make big-wheel hymnals of interconnected lives where hope and despair trade precedent—on Mezzanine, it’s alienation all the way down. There’s no safety from harm here, nothing you’ve got to be thankful for, nobody to take the force of the blow: what Mezzanine provides instead is a succession of parties and relationships and panopticons where the walls won’t stop closing in.The lyrics establish this atmosphere all on their own. Sex, in “Inertia Creeps,” is reduced to a meeting of “two undernourished egos, four rotating hips,” the focus of a failing relationship that's left its participants too numbed with their own routine dishonesty to break it off. The voice singing it—Massive Attack's cornerstone co-writer/producer Robert “3D” Del Naja—is raspy from exhaustion. “Dissolved Girl” reiterates this theme from the perspective of guest vocalist Sarah Jay Hawley (“Passion’s overrated anyway”). On “Risingson,” Grant “Daddy G” Marshall nails the boredom and anxiety of being stuck somewhere you can’t stand with someone you’re starting to feel the same way about (“Why you want to take me to this party and breathe/I’m dying to leave/Every time we grind you know we severed lines”). But Mezzanine’s defining moments come from guest vocalists who were famous long before Massive Attack even released their first album. Horace Andy was already a legend in reggae circles, but his collaborations with Massive Attack gave him a wider crossover exposure, and all three of his appearances on Mezzanine are homages or nods to songs he'd charted with in his early-’70s come-up. “Angel” is a loose rewrite of his 1973 single “You Are My Angel,” but it’s a fakeout after the first verse—originally a vision of beauty (“Come from way above/To bring me love”), transformed into an Old Testament avenger: “On the dark side/Neutralize every man in sight.” The parenthetically titled, album-closing reprise of “(Exchange)” is a ghostly invocation of Andy’s “See A Man's Face” cleverly disguised as a comedown track. And then there’s “Man Next Door,” the John Holt standard that Andy had previously recorded as “Quiet Place”—on Mezzanine, it sounds less like an overheard argument from the next apartment over and more like a close-quarters reckoning with violence heard through thin walls ready to break. It’s Andy at his emotionally nuanced and evocative best.The other outside vocalist was even more of a coup: Liz Fraser, the singer and songwriter of Cocteau Twins, lends her virtuoso soprano to three songs that feel like exorcisms of the personal strife accompanying her band’s breakup. Her voice serves as an ethereal counterpoint to speaker-rattling production around it. “Black Milk” contains the album’s most spiritually unnerving words (“Eat me/In the space/Within my heart/Love you for God/Love you for the Mother”), even as her lead and the elegiac beat make for some of its most beautiful sounds. She provides the wistful counterpoint to the night-shift alienation of “Group Four.” And then there's “Teardrop,” her finest moment on the album. Legend has it the song was briefly considered for Madonna; Andrew “Mushroom” Vowles sent the demo to her, but was overruled by Daddy G and 3D, who both wanted Fraser. Democracy thankfully worked this time around, as Fraser’s performance—recorded in part on the day she discovered that Jeff Buckley, who she’d had an estranged working relationship and friendship with, had drowned in Memphis’ Wolf River—was a heart-rending performance that gave Massive Attack their first (and so far only) UK Top 10 hit.Originally set for a late ’97 release, Mezzanine got pushed back four months because Del Naja refused to stop reworking the tracks, tearing them apart and rebuilding them until they’re so polished they gleam. It sure sounds like the product of bloody-knuckled labor, all that empty-space reverb and melted-together multitrack vocals and oppressive low-end. (The first sound you hear on the album, that lead-jointed bassline on “Angel,” is to subwoofers what “Planet Earth” is to high-def television.) But it also groans with the burden of creative conflict, a working process that created rifts between Del Naja and Vowles, who left shortly after Mezzanine dropped following nearly 15 years of collaboration.Mezzanine began the band’s relationship with producer Neil Davidge, who’d known Vowles dating back to the early ’90s and met the rest of the band after the completion of Protection. He picked a chaotic time to jump in, but Davidge and 3D forged a creative bond working through that pressure. Mezzanine was a document of unity, not fragmentation. Despite their rifts, they were a post-genre outfit, one that couldn’t separate dub from punk from hip-hop from R&B because the basslines all worked together and because classifications are for toe tags. All their acknowledged samples—including the joy-buzzer synths from Ultravox’s “Rockwrok” (“Inertia Creeps”), the opulent ache of Isaac Hayes’ celestial-soul take on “Our Day Will Come” (“Exchange”), Robert Smith’s nervous “tick tick tick” from the Cure’s “10:15 Saturday Night,” and the most concrete-crumbling throwdown of the Led Zep “Levee” break ever deployed (the latter two on “Man Next Door”)—were sourced from  1968 and 1978, well-traveled crate-digging territory. But what they build from that is its own beast.  Their working method never got any faster. The four-year gap between Protection and Mezzanine became a five-year gap until 2003’s 100th Window, then another seven years between that record and 2010’s Heligoland, plus another seven years and counting with no full-lengths to show for it. Not that they've been slacking: we've gotten a multimedia film/music collaboration with Adam Curtis, the respectable but underrated Ritual Spirit EP, and Del Naja’s notoriously rumored side gig as Banksy. (Hey, 3D does have a background in graffiti art.) But the ordeal of both recording and touring Mezzanine took its own toll. A late ’98 interview with Del Naja saw him optimistic about its reputation-shedding style: “I always said it was for the greater good of the fucking project because if this album was a bit different from the last two, the next one would be even freer to be whatever it wants to be.” But fatigue and restlessness rarely make for a productive mixture, and that same spark of tension which carried Mezzanine over the threshold proved unsustainable, not just for Massive Attack’s creativity but their continued existence.Still, it’s hard not to feel the album’s legacy resonating elsewhere—and not just in “Teardrop” becoming the cue for millions of TV viewers to brace themselves for Hugh Laurie’s cranky-genius-doctor schtick. Graft its tense feelings of nervy isolation and late-night melancholy onto two-step, and you’re partway to the blueprint for Plastician and Burial. You can hear flashes of that mournful romantic alienation in James Blake, the graceful, bass-riddled emotional abrasion in FKA twigs, the all-absorbing post-genre rock/soul ambitions in Young Fathers or Algiers. Mezzanine stands as an album built around echoes of the ’70s, wrestled through the immediacy of its creators' tumultuous late ’90s, and fearless enough that it still sounds like it belongs in whatever timeframe you're playing it.\n"
     ]
    }
   ],
   "source": [
    "print('content table')\n",
    "print('\\n')\n",
    "result = engine.execute(\"SELECT * FROM content\")\n",
    "content = pd.DataFrame(result.fetchall(), columns=get_table_column_names('content'))\n",
    "print(content.head())\n",
    "print('\\n')\n",
    "print(content.content[0])"
   ]
  },
  {
   "cell_type": "code",
   "execution_count": 68,
   "metadata": {},
   "outputs": [
    {
     "name": "stdout",
     "output_type": "stream",
     "text": [
      "years table\n",
      "\n",
      "\n",
      "   reviewid    year\n",
      "0     22703  1998.0\n",
      "1     22721  2016.0\n",
      "2     22659  2016.0\n",
      "3     22661  2016.0\n",
      "4     22725  2016.0\n"
     ]
    },
    {
     "data": {
      "image/png": "[encoded data removed]",
      "text/plain": [
       "<matplotlib.figure.Figure at 0x14e3b34a198>"
      ]
     },
     "metadata": {},
     "output_type": "display_data"
    }
   ],
   "source": [
    "print('years table')\n",
    "print('\\n')\n",
    "result = engine.execute(\"SELECT * FROM years\")\n",
    "years = pd.DataFrame(result.fetchall(), columns=get_table_column_names('years'))\n",
    "print(years.head())\n",
    "\n",
    "years['year'].hist()\n",
    "plt.title('Histogram of review years')\n",
    "plt.xlabel('Year')\n",
    "plt.ylabel('Counts')\n",
    "plt.show()"
   ]
  },
  {
   "cell_type": "code",
   "execution_count": 72,
   "metadata": {},
   "outputs": [
    {
     "name": "stdout",
     "output_type": "stream",
     "text": [
      "genres table\n",
      "\n",
      "\n",
      "   reviewid       genre\n",
      "0     22703  electronic\n",
      "1     22721       metal\n",
      "2     22659        rock\n",
      "3     22661        rock\n",
      "4     22725  electronic\n",
      "\n",
      "\n",
      "Counts from each genre\n",
      "rock            9436\n",
      "electronic      3874\n",
      "experimental    1815\n",
      "rap             1559\n",
      "pop/r&b         1432\n",
      "metal            860\n",
      "folk/country     685\n",
      "jazz             435\n",
      "global           217\n",
      "Name: genre, dtype: int64\n"
     ]
    }
   ],
   "source": [
    "print('genres table')\n",
    "print('\\n')\n",
    "result = engine.execute(\"SELECT * FROM genres\")\n",
    "genres = pd.DataFrame(result.fetchall(), columns=get_table_column_names('genres'))\n",
    "print(genres.head())\n",
    "print('\\n')\n",
    "print('Counts from each genre')\n",
    "print(genres['genre'].value_counts())"
   ]
  },
  {
   "cell_type": "code",
   "execution_count": 74,
   "metadata": {},
   "outputs": [
    {
     "name": "stdout",
     "output_type": "stream",
     "text": [
      "labels table\n",
      "\n",
      "\n",
      "   reviewid               label\n",
      "0     22703              virgin\n",
      "1     22721           hathenter\n",
      "2     22659        static shock\n",
      "3     22659  fashionable idiots\n",
      "4     22661     kill rock stars\n",
      "\n",
      "\n",
      "Counts from each record label\n",
      "self-released                420\n",
      "drag city                    272\n",
      "sub pop                      268\n",
      "thrill jockey                244\n",
      "merge                        239\n",
      "warp                         217\n",
      "domino                       211\n",
      "columbia                     207\n",
      "matador                      202\n",
      "warner bros.                 168\n",
      "mute                         160\n",
      "astralwerks                  151\n",
      "interscope                   146\n",
      "jagjaguwar                   145\n",
      "secretly canadian            132\n",
      "atlantic                     131\n",
      "4ad                          126\n",
      "kranky                       115\n",
      "capitol                      115\n",
      "rough trade                  114\n",
      "virgin                       108\n",
      "polyvinyl                    107\n",
      "xl                           104\n",
      "def jam                      103\n",
      "temporary residence          101\n",
      "anti-                         97\n",
      "rhino                         94\n",
      "universal                     93\n",
      "relapse                       93\n",
      "stones throw                  91\n",
      "                            ... \n",
      "ether                          1\n",
      "engine room                    1\n",
      "stuntmonkey                    1\n",
      "resurrection                   1\n",
      "c.sides                        1\n",
      "godforsaken music              1\n",
      "waxploitation                  1\n",
      "jc                             1\n",
      "liz phair                      1\n",
      "the great vitamin mystery      1\n",
      "dark skies association         1\n",
      "growing bin                    1\n",
      "trash talk collective          1\n",
      "bangyahead!                    1\n",
      "brookhaven                     1\n",
      "cam & china                    1\n",
      "conspiracy                     1\n",
      "prah                           1\n",
      "fryk beat                      1\n",
      "panic button                   1\n",
      "king creative                  1\n",
      "m-plant                        1\n",
      "mag mag                        1\n",
      "fondle 'em                     1\n",
      "modern harmonic                1\n",
      "skint                          1\n",
      "trust issue                    1\n",
      "avantgarde                     1\n",
      "lauren                         1\n",
      "labels                         1\n",
      "Name: label, Length: 3667, dtype: int64\n"
     ]
    }
   ],
   "source": [
    "print('labels table')\n",
    "print('\\n')\n",
    "result = engine.execute(\"SELECT * FROM labels\")\n",
    "labels = pd.DataFrame(result.fetchall(), columns=get_table_column_names('labels'))\n",
    "print(labels.head())\n",
    "print('\\n')\n",
    "print('Counts from each record label')\n",
    "print(labels['label'].value_counts())"
   ]
  },
  {
   "cell_type": "code",
   "execution_count": null,
   "metadata": {
    "collapsed": true
   },
   "outputs": [],
   "source": []
  }
 ],
 "metadata": {
  "kernelspec": {
   "display_name": "Python 3",
   "language": "python",
   "name": "python3"
  },
  "language_info": {
   "codemirror_mode": {
    "name": "ipython",
    "version": 3
   },
   "file_extension": ".py",
   "mimetype": "text/x-python",
   "name": "python",
   "nbconvert_exporter": "python",
   "pygments_lexer": "ipython3",
   "version": "3.6.4"
  }
 },
 "nbformat": 4,
 "nbformat_minor": 2
}
