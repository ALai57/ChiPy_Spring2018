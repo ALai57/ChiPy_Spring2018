{
 "cells": [
  {
   "cell_type": "code",
   "execution_count": 36,
   "metadata": {
    "collapsed": true
   },
   "outputs": [],
   "source": [
    "from sqlalchemy import create_engine, MetaData, inspect"
   ]
  },
  {
   "cell_type": "code",
   "execution_count": 4,
   "metadata": {},
   "outputs": [],
   "source": [
    "# Connecting to SQLite DB\n",
    "engine = create_engine('sqlite:///database.sqlite')\n",
    "engine.connect()"
   ]
  },
  {
   "cell_type": "code",
   "execution_count": 45,
   "metadata": {},
   "outputs": [
    {
     "name": "stdout",
     "output_type": "stream",
     "text": [
      "Tables in the database\n",
      "['artists', 'content', 'genres', 'labels', 'reviews', 'years']\n"
     ]
    }
   ],
   "source": [
    "print('Tables in the database')\n",
    "print(engine.table_names())"
   ]
  },
  {
   "cell_type": "code",
   "execution_count": 46,
   "metadata": {
    "collapsed": true
   },
   "outputs": [],
   "source": [
    "m = MetaData(bind=engine)\n",
    "m.reflect(engine)"
   ]
  },
  {
   "cell_type": "code",
   "execution_count": 49,
   "metadata": {},
   "outputs": [
    {
     "data": {
      "text/plain": [
       "[{'autoincrement': 'auto',\n",
       "  'default': None,\n",
       "  'name': 'reviewid',\n",
       "  'nullable': True,\n",
       "  'primary_key': 0,\n",
       "  'type': INTEGER()},\n",
       " {'autoincrement': 'auto',\n",
       "  'default': None,\n",
       "  'name': 'artist',\n",
       "  'nullable': True,\n",
       "  'primary_key': 0,\n",
       "  'type': TEXT()}]"
      ]
     },
     "execution_count": 49,
     "metadata": {},
     "output_type": "execute_result"
    }
   ],
   "source": [
    "ins = inspect(engine)\n",
    "ins.get_columns(table_name='artists')"
   ]
  },
  {
   "cell_type": "code",
   "execution_count": 21,
   "metadata": {},
   "outputs": [
    {
     "data": {
      "text/plain": [
       "(22703, 'massive attack')"
      ]
     },
     "execution_count": 21,
     "metadata": {},
     "output_type": "execute_result"
    }
   ],
   "source": [
    "result = engine.execute(\"SELECT * FROM artists\")\n",
    "result.fetchone()"
   ]
  },
  {
   "cell_type": "code",
   "execution_count": 50,
   "metadata": {},
   "outputs": [
    {
     "name": "stdout",
     "output_type": "stream",
     "text": [
      "immutabledict({'artists': Table('artists', MetaData(bind=Engine(sqlite:///database.sqlite)), Column('reviewid', INTEGER(), table=<artists>), Column('artist', TEXT(), table=<artists>), schema=None), 'content': Table('content', MetaData(bind=Engine(sqlite:///database.sqlite)), Column('reviewid', INTEGER(), table=<content>), Column('content', TEXT(), table=<content>), schema=None), 'genres': Table('genres', MetaData(bind=Engine(sqlite:///database.sqlite)), Column('reviewid', INTEGER(), table=<genres>), Column('genre', TEXT(), table=<genres>), schema=None), 'labels': Table('labels', MetaData(bind=Engine(sqlite:///database.sqlite)), Column('reviewid', INTEGER(), table=<labels>), Column('label', TEXT(), table=<labels>), schema=None), 'reviews': Table('reviews', MetaData(bind=Engine(sqlite:///database.sqlite)), Column('reviewid', INTEGER(), table=<reviews>), Column('title', TEXT(), table=<reviews>), Column('artist', TEXT(), table=<reviews>), Column('url', TEXT(), table=<reviews>), Column('score', REAL(), table=<reviews>), Column('best_new_music', INTEGER(), table=<reviews>), Column('author', TEXT(), table=<reviews>), Column('author_type', TEXT(), table=<reviews>), Column('pub_date', TEXT(), table=<reviews>), Column('pub_weekday', INTEGER(), table=<reviews>), Column('pub_day', INTEGER(), table=<reviews>), Column('pub_month', INTEGER(), table=<reviews>), Column('pub_year', INTEGER(), table=<reviews>), schema=None), 'years': Table('years', MetaData(bind=Engine(sqlite:///database.sqlite)), Column('reviewid', INTEGER(), table=<years>), Column('year', INTEGER(), table=<years>), schema=None)})\n"
     ]
    }
   ],
   "source": [
    "print(m.tables)"
   ]
  },
  {
   "cell_type": "code",
   "execution_count": 41,
   "metadata": {},
   "outputs": [],
   "source": []
  },
  {
   "cell_type": "code",
   "execution_count": null,
   "metadata": {},
   "outputs": [],
   "source": []
  },
  {
   "cell_type": "code",
   "execution_count": null,
   "metadata": {
    "collapsed": true
   },
   "outputs": [],
   "source": []
  }
 ],
 "metadata": {
  "kernelspec": {
   "display_name": "Python 3",
   "language": "python",
   "name": "python3"
  },
  "language_info": {
   "codemirror_mode": {
    "name": "ipython",
    "version": 3
   },
   "file_extension": ".py",
   "mimetype": "text/x-python",
   "name": "python",
   "nbconvert_exporter": "python",
   "pygments_lexer": "ipython3",
   "version": "3.6.2"
  }
 },
 "nbformat": 4,
 "nbformat_minor": 2
}
