{
 "cells": [
  {
   "cell_type": "code",
   "execution_count": 1,
   "metadata": {},
   "outputs": [],
   "source": [
    "import pandas as pd\n",
    "import numpy as np\n",
    "\n",
    "%load_ext autoreload\n",
    "%autoreload 2"
   ]
  },
  {
   "cell_type": "code",
   "execution_count": null,
   "metadata": {},
   "outputs": [],
   "source": [
    "Input variables (based on physicochemical tests):\n",
    "   1 - fixed acidity\n",
    "   2 - volatile acidity\n",
    "   3 - citric acid\n",
    "   4 - residual sugar\n",
    "   5 - chlorides\n",
    "   6 - free sulfur dioxide\n",
    "   7 - total sulfur dioxide\n",
    "   8 - density\n",
    "   9 - pH\n",
    "   10 - sulphates\n",
    "   11 - alcohol\n",
    "   Output variable (based on sensory data): \n",
    "   12 - quality (score between 0 and 10)"
   ]
  },
  {
   "cell_type": "code",
   "execution_count": 2,
   "metadata": {},
   "outputs": [],
   "source": [
    "col_names = ['fixed_acidity',\n",
    "             'volatile_acidity',\n",
    "             'citric_acid',\n",
    "             'residual_sugar',\n",
    "             'chlorides',\n",
    "             'free_sulfur',\n",
    "             'total_sulfur',\n",
    "             'density',\n",
    "             'pH',\n",
    "             'sulphates',\n",
    "             'alcohol',\n",
    "            ]"
   ]
  },
  {
   "cell_type": "code",
   "execution_count": 11,
   "metadata": {},
   "outputs": [],
   "source": [
    "Xy = np.loadtxt(\"winequality-white.csv\", delimiter=\";\", skiprows=1)\n",
    "\n",
    "X = Xy[:, 0:-1]\n",
    "y = Xy[:, -1]\n",
    "y=np.array([y]).T"
   ]
  },
  {
   "cell_type": "code",
   "execution_count": 4,
   "metadata": {},
   "outputs": [
    {
     "name": "stdout",
     "output_type": "stream",
     "text": [
      "   fixed_acidity  volatile_acidity  citric_acid  residual_sugar  chlorides  \\\n",
      "0            7.0              0.27         0.36            20.7      0.045   \n",
      "1            6.3              0.30         0.34             1.6      0.049   \n",
      "2            8.1              0.28         0.40             6.9      0.050   \n",
      "3            7.2              0.23         0.32             8.5      0.058   \n",
      "4            7.2              0.23         0.32             8.5      0.058   \n",
      "\n",
      "   free_sulfur  total_sulfur  density    pH  sulphates  alcohol  \n",
      "0         45.0         170.0   1.0010  3.00       0.45      8.8  \n",
      "1         14.0         132.0   0.9940  3.30       0.49      9.5  \n",
      "2         30.0          97.0   0.9951  3.26       0.44     10.1  \n",
      "3         47.0         186.0   0.9956  3.19       0.40      9.9  \n",
      "4         47.0         186.0   0.9956  3.19       0.40      9.9  \n",
      "   quality\n",
      "0      6.0\n",
      "1      6.0\n",
      "2      6.0\n",
      "3      6.0\n",
      "4      6.0\n"
     ]
    }
   ],
   "source": [
    "df_x = pd.DataFrame(X, columns=col_names)\n",
    "print(df_x.head())\n",
    "\n",
    "df_y = pd.DataFrame(y, columns=['quality'])\n",
    "print(df_y.head())"
   ]
  },
  {
   "cell_type": "code",
   "execution_count": 77,
   "metadata": {
    "scrolled": false
   },
   "outputs": [],
   "source": [
    "from myalgorithm.ridge_regression import RidgeRegression\n",
    "rr = RidgeRegression(penalty=0.0, add_const=True)\n",
    "rr.fit(X=df_x, y=df_y)\n",
    "\n",
    "rr_sgd = RidgeRegression(penalty=0.0, opt='sgd_test', lr=1e-6, n_epochs=10000, add_const=True)\n",
    "rr_sgd.fit(X=X, y=y)\n",
    "\n",
    "# y just has to be the right shape!!!!"
   ]
  },
  {
   "cell_type": "code",
   "execution_count": null,
   "metadata": {},
   "outputs": [],
   "source": []
  },
  {
   "cell_type": "code",
   "execution_count": 78,
   "metadata": {},
   "outputs": [
    {
     "data": {
      "text/plain": [
       "array([[ 1.95247913e+02],\n",
       "       [ 6.72155632e-02],\n",
       "       [-2.42274177e+00],\n",
       "       [ 2.79165190e-02],\n",
       "       [ 1.06563388e-01],\n",
       "       [-3.21531295e-01],\n",
       "       [ 1.29101578e-03],\n",
       "       [-7.54529662e-03],\n",
       "       [-1.95372185e+02],\n",
       "       [ 8.83296665e-01],\n",
       "       [ 8.19645113e-01],\n",
       "       [ 2.15507686e-01]])"
      ]
     },
     "execution_count": 78,
     "metadata": {},
     "output_type": "execute_result"
    }
   ],
   "source": [
    "rr_sgd.beta"
   ]
  },
  {
   "cell_type": "code",
   "execution_count": 79,
   "metadata": {},
   "outputs": [
    {
     "data": {
      "text/plain": [
       "array([[ 1.50192843e+02],\n",
       "       [ 6.55199614e-02],\n",
       "       [-1.86317709e+00],\n",
       "       [ 2.20902013e-02],\n",
       "       [ 8.14828026e-02],\n",
       "       [-2.47276537e-01],\n",
       "       [ 3.73276519e-03],\n",
       "       [-2.85747419e-04],\n",
       "       [-1.50284181e+02],\n",
       "       [ 6.86343742e-01],\n",
       "       [ 6.31476473e-01],\n",
       "       [ 1.93475697e-01]])"
      ]
     },
     "execution_count": 79,
     "metadata": {},
     "output_type": "execute_result"
    }
   ],
   "source": [
    "rr.beta"
   ]
  },
  {
   "cell_type": "code",
   "execution_count": 76,
   "metadata": {},
   "outputs": [
    {
     "ename": "NameError",
     "evalue": "name 'array' is not defined",
     "output_type": "error",
     "traceback": [
      "\u001b[1;31m---------------------------------------------------------------------------\u001b[0m",
      "\u001b[1;31mNameError\u001b[0m                                 Traceback (most recent call last)",
      "\u001b[1;32m<ipython-input-76-c9dfa5b585d5>\u001b[0m in \u001b[0;36m<module>\u001b[1;34m()\u001b[0m\n\u001b[1;32m----> 1\u001b[1;33m array([[ 1.95250696e+02],\n\u001b[0m\u001b[0;32m      2\u001b[0m        \u001b[1;33m[\u001b[0m \u001b[1;36m8.51759498e-02\u001b[0m\u001b[1;33m]\u001b[0m\u001b[1;33m,\u001b[0m\u001b[1;33m\u001b[0m\u001b[0m\n\u001b[0;32m      3\u001b[0m        \u001b[1;33m[\u001b[0m\u001b[1;33m-\u001b[0m\u001b[1;36m2.42213022e+00\u001b[0m\u001b[1;33m]\u001b[0m\u001b[1;33m,\u001b[0m\u001b[1;33m\u001b[0m\u001b[0m\n\u001b[0;32m      4\u001b[0m        \u001b[1;33m[\u001b[0m \u001b[1;36m2.87172617e-02\u001b[0m\u001b[1;33m]\u001b[0m\u001b[1;33m,\u001b[0m\u001b[1;33m\u001b[0m\u001b[0m\n\u001b[0;32m      5\u001b[0m        \u001b[1;33m[\u001b[0m \u001b[1;36m1.05927643e-01\u001b[0m\u001b[1;33m]\u001b[0m\u001b[1;33m,\u001b[0m\u001b[1;33m\u001b[0m\u001b[0m\n",
      "\u001b[1;31mNameError\u001b[0m: name 'array' is not defined"
     ]
    }
   ],
   "source": [
    "array([[ 1.95250696e+02],\n",
    "       [ 8.51759498e-02],\n",
    "       [-2.42213022e+00],\n",
    "       [ 2.87172617e-02],\n",
    "       [ 1.05927643e-01],\n",
    "       [-3.21459498e-01],\n",
    "       [ 4.85259475e-03],\n",
    "       [-3.71471645e-04],\n",
    "       [-1.95369435e+02],\n",
    "       [ 8.92246865e-01],\n",
    "       [ 8.20919415e-01],\n",
    "       [ 2.51518406e-01]])"
   ]
  },
  {
   "cell_type": "markdown",
   "metadata": {},
   "source": [
    "# Simulate basic data"
   ]
  },
  {
   "cell_type": "code",
   "execution_count": 116,
   "metadata": {},
   "outputs": [],
   "source": [
    "x = np.random.normal(size=[100,1])*100\n",
    "y = x+np.random.normal(size=[100,1])"
   ]
  },
  {
   "cell_type": "code",
   "execution_count": 119,
   "metadata": {},
   "outputs": [],
   "source": [
    "from myalgorithm.ridge_regression import RidgeRegression\n",
    "rr = RidgeRegression(penalty=0, add_const=True)\n",
    "rr.fit(X=x, y=y)"
   ]
  },
  {
   "cell_type": "code",
   "execution_count": 120,
   "metadata": {},
   "outputs": [
    {
     "data": {
      "text/plain": [
       "array([[0.02767326],\n",
       "       [0.99879481]])"
      ]
     },
     "execution_count": 120,
     "metadata": {},
     "output_type": "execute_result"
    }
   ],
   "source": [
    "rr.beta"
   ]
  },
  {
   "cell_type": "code",
   "execution_count": 154,
   "metadata": {},
   "outputs": [],
   "source": [
    "rr_sgd = RidgeRegression(penalty=0, opt='sgd_test', lr=3e-5, n_epochs=30000, add_const=True)\n",
    "rr_sgd.fit(X=x, y=y)"
   ]
  },
  {
   "cell_type": "code",
   "execution_count": 155,
   "metadata": {},
   "outputs": [
    {
     "data": {
      "text/plain": [
       "array([[-0.47673521],\n",
       "       [ 0.99914328]])"
      ]
     },
     "execution_count": 155,
     "metadata": {},
     "output_type": "execute_result"
    }
   ],
   "source": [
    "rr_sgd.beta\n"
   ]
  },
  {
   "cell_type": "code",
   "execution_count": 156,
   "metadata": {},
   "outputs": [
    {
     "data": {
      "image/png": "[encoded data removed]",
      "text/plain": [
       "<matplotlib.figure.Figure at 0x1bf2f115a20>"
      ]
     },
     "metadata": {},
     "output_type": "display_data"
    }
   ],
   "source": [
    "import matplotlib.pyplot as plt\n",
    "\n",
    "plt.plot(np.array(rr_sgd.beta_history).squeeze().T[0])\n",
    "plt.plot(np.array(rr_sgd.beta_history).squeeze().T[1])\n",
    "\n",
    "plt.xlabel('Iteration')\n",
    "plt.ylabel('Beta parameter')\n",
    "plt.legend(['int','slope'])\n",
    "plt.show()"
   ]
  },
  {
   "cell_type": "code",
   "execution_count": 141,
   "metadata": {},
   "outputs": [
    {
     "data": {
      "text/plain": [
       "array([-2.9999046 , -2.99981113, -2.99971954, ..., -2.82066798,\n",
       "       -2.82066231, -2.82065664])"
      ]
     },
     "execution_count": 141,
     "metadata": {},
     "output_type": "execute_result"
    }
   ],
   "source": [
    "np.array(rr_sgd.beta_history).squeeze().T[0]\n"
   ]
  },
  {
   "cell_type": "code",
   "execution_count": null,
   "metadata": {},
   "outputs": [],
   "source": []
  }
 ],
 "metadata": {
  "kernelspec": {
   "display_name": "Python 3",
   "language": "python",
   "name": "python3"
  },
  "language_info": {
   "codemirror_mode": {
    "name": "ipython",
    "version": 3
   },
   "file_extension": ".py",
   "mimetype": "text/x-python",
   "name": "python",
   "nbconvert_exporter": "python",
   "pygments_lexer": "ipython3",
   "version": "3.6.4"
  }
 },
 "nbformat": 4,
 "nbformat_minor": 2
}
